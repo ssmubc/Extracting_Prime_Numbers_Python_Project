{
  "nbformat": 4,
  "nbformat_minor": 0,
  "metadata": {
    "colab": {
      "provenance": [],
      "authorship_tag": "ABX9TyMW7f7vfDEDJmmN1Boey55m",
      "include_colab_link": true
    },
    "kernelspec": {
      "name": "python3",
      "display_name": "Python 3"
    }
  },
  "cells": [
    {
      "cell_type": "markdown",
      "metadata": {
        "id": "view-in-github",
        "colab_type": "text"
      },
      "source": [
        "<a href=\"https://colab.research.google.com/github/ssmubc/Extracting_Prime_Numbers_Python_Project/blob/main/Extracting_Prime_Numbers_Python_Project.ipynb\" target=\"_parent\"><img src=\"https://colab.research.google.com/assets/colab-badge.svg\" alt=\"Open In Colab\"/></a>"
      ]
    },
    {
      "cell_type": "markdown",
      "metadata": {
        "id": "bGsECf7c-rVD"
      },
      "source": [
        "# **Extracting Prime Numbers**\n",
        "\n",
        "\n",
        "## Python Project\n",
        "### In this project I have implemented the Sieve of Eratosthenes algorithm in Python to extract only the prime numbers from a list of natural numbers.\n",
        "\n",
        "\n"
      ]
    },
    {
      "cell_type": "markdown",
      "metadata": {
        "id": "ntPNnyq6EMJk"
      },
      "source": [
        "### The **Sieve of Eratosthenes** Algorithm\n",
        "\n",
        "The Sieve of Eratosthenes is an algorithm which allows us to extract prime numbers (or primes) from a given list of natural numbers. \n",
        "\n",
        "The Sieve of Eratosthenes algorithm finds primes up to a number by eliminating every multiple of a prime number (starting from 2). \n",
        "\n",
        "It assumes that every number between 2 and 50 is a prime number (even though they are actually not prime). All the multiples of a number (except the number itself) must be removed from the list.\n",
        "\n",
        "In a list containing the natural numbers between 2 and 50, assume that\n",
        "\n",
        "- 2 is a prime number so all of its multiples: 4, 6, 8... must be discarded\n",
        "\n",
        "- 3 is a prime number so all of its multiples: 6, 9, 12... must be discarded\n",
        "\n",
        "- 4 is a prime number so all of its multiples: 8, 12, 16... must be discarded. Since every multiple of 4 is also a multiple of 2 they already got discarded in the first step.\n",
        "\n",
        "- 5 is a prime number so all of its multiples (except 5), i.e., 5, 10, 15... must be discarded. \n",
        "\n",
        "  <img src='https://drive.google.com/uc?id=1GC9gaFj32sC-xAw1wKiFb7qWJ6er35xS' width=300>\n",
        "\n",
        "This process is continued until all the non-prime numbers are removed from the list.\n",
        "\n"
      ]
    },
    {
      "cell_type": "code",
      "metadata": {
        "id": "2p4MWGNlWtR1",
        "colab": {
          "base_uri": "https://localhost:8080/"
        },
        "outputId": "5b9ebb2b-f3d7-4c90-f8f2-c39220dcc723"
      },
      "source": [
        "# Step 3: Discarding the multiples of 2 (except 2).\n",
        "n = int(input(\"Please enter a number till which you need all primes: \"))\n",
        "primes = [i for i in range(2, n + 1)]  \n",
        "print(\"Before discarding.\")\n",
        "print(primes)\n",
        "\n",
        "# Setting all the multiples of 2 (except 2) equal to 0.\n",
        "current_prime = 2\n",
        "for i in range(current_prime + 0, len(primes), current_prime):\n",
        "  primes[i] = 0\n",
        "\n",
        "print(\"After discarding the multiples of 2.\")\n",
        "print(primes)"
      ],
      "execution_count": null,
      "outputs": [
        {
          "output_type": "stream",
          "text": [
            "Please enter a number till which you need all primes: 15\n",
            "Before discarding.\n",
            "[2, 3, 4, 5, 6, 7, 8, 9, 10, 11, 12, 13, 14, 15]\n",
            "After discarding the multiples of 2.\n",
            "[2, 3, 0, 5, 0, 7, 0, 9, 0, 11, 0, 13, 0, 15]\n"
          ],
          "name": "stdout"
        }
      ]
    },
    {
      "cell_type": "code",
      "metadata": {
        "id": "vTOl15bHEUXg",
        "colab": {
          "base_uri": "https://localhost:8080/",
          "height": 145
        },
        "outputId": "37933ce1-0697-4786-e8ce-3f4d7c412b3d"
      },
      "source": [
        "# Discarding the multiples of 2 & 3 (except 2 & 3).\n",
        "n = int(input(\"Please enter a number till which you need all primes: \"))\n",
        "primes = [i for i in range(2, n + 1)]  \n",
        "print(\"Before discarding.\")\n",
        "print(primes)\n",
        "\n",
        "# Setting all the multiples of 2 (except 2) equal to 0.\n",
        "current_prime = 2\n",
        "for i in range(current_prime + 0, len(primes), current_prime):\n",
        "  primes[i] = 0\n",
        "\n",
        "print(\"After discarding the multiples of 2 except 2.\")\n",
        "print(primes)\n",
        "\n",
        "# Setting all the multiples of 3 (except 3) equal to 0.\n",
        "current_prime = 3\n",
        "for i in range(current_prime + 1, len(primes), current_prime):\n",
        "  primes[i] = 0\n",
        "\n",
        "print(\"After discarding the multiples of 3 except 3.\")\n",
        "print(primes)"
      ],
      "execution_count": null,
      "outputs": [
        {
          "output_type": "stream",
          "text": [
            "Please enter a number till which you need all primes: 20\n",
            "Before discarding.\n",
            "[2, 3, 4, 5, 6, 7, 8, 9, 10, 11, 12, 13, 14, 15, 16, 17, 18, 19, 20]\n",
            "After discarding the multiples of 2 except 2.\n",
            "[2, 3, 0, 5, 0, 7, 0, 9, 0, 11, 0, 13, 0, 15, 0, 17, 0, 19, 0]\n",
            "After discarding the multiples of 3 except 3.\n",
            "[2, 3, 0, 5, 0, 7, 0, 0, 0, 11, 0, 13, 0, 0, 0, 17, 0, 19, 0]\n"
          ],
          "name": "stdout"
        }
      ]
    },
    {
      "cell_type": "code",
      "metadata": {
        "id": "DyNMwBNJe13Z",
        "colab": {
          "base_uri": "https://localhost:8080/",
          "height": 181
        },
        "outputId": "ab0ebc9b-d708-44a6-d1b4-068cf3133a1f"
      },
      "source": [
        "# Discarding the multiples of 2, 3 & 4 (except 2, 3 & 4).\n",
        "n = int(input(\"Please enter a number till which you need all primes: \"))\n",
        "primes = [i for i in range(2, n + 1)]  \n",
        "print(\"Before discarding.\")\n",
        "print(primes)\n",
        "\n",
        "# Setting all the multiples of 2 (except 2) equal to 0.\n",
        "current_prime = 2\n",
        "for i in range(current_prime + 0, len(primes), current_prime):\n",
        "  primes[i] = 0\n",
        "\n",
        "print(\"After discarding the multiples of 2 except 2.\")\n",
        "print(primes)\n",
        "\n",
        "# Setting all the multiples of 3 (except 3) equal to 0.\n",
        "current_prime = 3\n",
        "for i in range(current_prime + 1, len(primes), current_prime):\n",
        "  primes[i] = 0\n",
        "\n",
        "print(\"After discarding the multiples of 3 except 3.\")\n",
        "print(primes)\n",
        "\n",
        "# Setting all the multiples of 4 (except 4) equal to 0.\n",
        "current_prime = 4\n",
        "for i in range(current_prime + 2, len(primes), current_prime):\n",
        "  primes[i] = 0\n",
        "\n",
        "print(\"After discarding the multiples of 4 except 4.\")\n",
        "print(primes)"
      ],
      "execution_count": null,
      "outputs": [
        {
          "output_type": "stream",
          "text": [
            "Please enter a number till which you need all primes: 20\n",
            "Before discarding.\n",
            "[2, 3, 4, 5, 6, 7, 8, 9, 10, 11, 12, 13, 14, 15, 16, 17, 18, 19, 20]\n",
            "After discarding the multiples of 2 except 2.\n",
            "[2, 3, 0, 5, 0, 7, 0, 9, 0, 11, 0, 13, 0, 15, 0, 17, 0, 19, 0]\n",
            "After discarding the multiples of 3 except 3.\n",
            "[2, 3, 0, 5, 0, 7, 0, 0, 0, 11, 0, 13, 0, 0, 0, 17, 0, 19, 0]\n",
            "After discarding the multiples of 4 except 4.\n",
            "[2, 3, 0, 5, 0, 7, 0, 0, 0, 11, 0, 13, 0, 0, 0, 17, 0, 19, 0]\n"
          ],
          "name": "stdout"
        }
      ]
    },
    {
      "cell_type": "code",
      "metadata": {
        "id": "beU8FAIVgaZw",
        "colab": {
          "base_uri": "https://localhost:8080/",
          "height": 110
        },
        "outputId": "84db8021-77a9-4b31-a779-629c8ac65021"
      },
      "source": [
        "# Solving the problem with a for loop statement. \n",
        "n = int(input(\"Please enter a number till which you need all primes: \"))\n",
        "primes = [i for i in range(2, n + 1)]\n",
        "print(primes)\n",
        "\n",
        "for i in range(len(primes)):\n",
        "  current_prime = primes[i]\n",
        "  if current_prime != 0:\n",
        " # Write your code frome here.\n",
        "    for i in range(current_prime + (current_prime - 2), len(primes), current_prime):\n",
        "      primes[i] = 0\n",
        "\n",
        "print(\"Starting from 2, here are the primes till\", str(n) + \":\")\n",
        "print(primes)\n",
        "    "
      ],
      "execution_count": null,
      "outputs": [
        {
          "output_type": "stream",
          "text": [
            "Please enter a number till which you need all primes: 50\n",
            "[2, 3, 4, 5, 6, 7, 8, 9, 10, 11, 12, 13, 14, 15, 16, 17, 18, 19, 20, 21, 22, 23, 24, 25, 26, 27, 28, 29, 30, 31, 32, 33, 34, 35, 36, 37, 38, 39, 40, 41, 42, 43, 44, 45, 46, 47, 48, 49, 50]\n",
            "Starting from 2, here are the primes till 50:\n",
            "[2, 3, 0, 5, 0, 7, 0, 0, 0, 11, 0, 13, 0, 0, 0, 17, 0, 19, 0, 0, 0, 23, 0, 0, 0, 0, 0, 29, 0, 31, 0, 0, 0, 0, 0, 37, 0, 0, 0, 41, 0, 43, 0, 0, 0, 47, 0, 0, 0]\n"
          ],
          "name": "stdout"
        }
      ]
    }
  ]
}